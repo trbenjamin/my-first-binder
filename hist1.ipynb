import numpy as np
print(np.__version__)
np.random.randn()
